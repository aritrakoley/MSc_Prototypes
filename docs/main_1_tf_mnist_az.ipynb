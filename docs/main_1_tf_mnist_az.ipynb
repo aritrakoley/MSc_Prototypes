{
 "cells": [
  {
   "cell_type": "markdown",
   "metadata": {},
   "source": [
    "#### Run Options: Set these options before running"
   ]
  },
  {
   "cell_type": "code",
   "execution_count": 1,
   "metadata": {},
   "outputs": [],
   "source": [
    "fn_h5 = 'tf_mnist_model_az.h5'\n",
    "fn_tflite = 'tf_mnist_model_az.tflite'\n",
    "class_labels = \"ABCDEFGHIJKLMNOPQRSTUVWXYZ\"\n",
    "\n",
    "save_as_tflite = False\n",
    "train = False\n",
    "n_epochs = 10"
   ]
  },
  {
   "cell_type": "markdown",
   "metadata": {
    "heading_collapsed": true
   },
   "source": [
    "#### 0. Import Modules"
   ]
  },
  {
   "cell_type": "code",
   "execution_count": 2,
   "metadata": {
    "hidden": true
   },
   "outputs": [],
   "source": [
    "from ImageUtilities import *\n",
    "from MNISTUtilities import *\n",
    "import numpy as np\n",
    "import cv2\n",
    "import matplotlib.pyplot as plt\n",
    "\n",
    "import tensorflow as tf\n",
    "from tensorflow import keras"
   ]
  },
  {
   "cell_type": "markdown",
   "metadata": {
    "heading_collapsed": true
   },
   "source": [
    "#### 1. Read MNIST"
   ]
  },
  {
   "cell_type": "code",
   "execution_count": 3,
   "metadata": {
    "hidden": true,
    "scrolled": false
   },
   "outputs": [
    {
     "name": "stdout",
     "output_type": "stream",
     "text": [
      "Reading: emnist-letters-mapping.txt  ...\n",
      "Reading: emnist-letters-test-images-idx3-ubyte.gz  ...\n",
      "2051 20800 28 28\n",
      "(20800, 28, 28)\n",
      "Reading: emnist-letters-test-labels-idx1-ubyte.gz  ...\n",
      "2049 20800 0 0\n",
      "(20800,)\n",
      "Reading: emnist-letters-train-images-idx3-ubyte.gz  ...\n",
      "2051 124800 28 28\n",
      "(124800, 28, 28)\n",
      "Reading: emnist-letters-train-labels-idx1-ubyte.gz  ...\n",
      "2049 124800 0 0\n",
      "(124800,)\n",
      "(124800, 784)\n",
      "Train Set:\n"
     ]
    },
    {
     "data": {
      "image/png": "[encoded data removed]",
      "text/plain": [
       "<Figure size 648x216 with 3 Axes>"
      ]
     },
     "metadata": {
      "needs_background": "light"
     },
     "output_type": "display_data"
    },
    {
     "name": "stdout",
     "output_type": "stream",
     "text": [
      "Test Set:\n"
     ]
    },
    {
     "data": {
      "image/png": "[encoded data removed]",
      "text/plain": [
       "<Figure size 648x216 with 3 Axes>"
      ]
     },
     "metadata": {
      "needs_background": "light"
     },
     "output_type": "display_data"
    }
   ],
   "source": [
    "X_train, X_test, y_train, y_test = read_and_transform_MNIST_data(dir_path='../../../data/mnist_az/gzip/', category='letter-data')\n",
    "\n",
    "#In the label arrays the classes are numbered from 1 to 26, we need 0 to 25.\n",
    "y_train, y_test = (y_train - 1), (y_test - 1)\n",
    "\n",
    "#Sanity Check\n",
    "sanity_check(X_train, X_test, y_train, y_test, class_labels)\n"
   ]
  },
  {
   "cell_type": "markdown",
   "metadata": {},
   "source": [
    "#### 2. Model Training"
   ]
  },
  {
   "cell_type": "markdown",
   "metadata": {
    "heading_collapsed": true
   },
   "source": [
    "##### 2.1 Build and Compile Model"
   ]
  },
  {
   "cell_type": "code",
   "execution_count": 4,
   "metadata": {
    "hidden": true
   },
   "outputs": [
    {
     "name": "stdout",
     "output_type": "stream",
     "text": [
      "124800 784 26\n",
      "WARNING:tensorflow:From E:\\Anaconda3\\envs\\tf_cpu_env\\lib\\site-packages\\tensorflow\\python\\ops\\resource_variable_ops.py:435: colocate_with (from tensorflow.python.framework.ops) is deprecated and will be removed in a future version.\n",
      "Instructions for updating:\n",
      "Colocations handled automatically by placer.\n",
      "_________________________________________________________________\n",
      "Layer (type)                 Output Shape              Param #   \n",
      "=================================================================\n",
      "dense (Dense)                (None, 800)               628000    \n",
      "_________________________________________________________________\n",
      "dense_1 (Dense)              (None, 500)               400500    \n",
      "_________________________________________________________________\n",
      "dense_2 (Dense)              (None, 200)               100200    \n",
      "_________________________________________________________________\n",
      "dense_3 (Dense)              (None, 26)                5226      \n",
      "=================================================================\n",
      "Total params: 1,133,926\n",
      "Trainable params: 1,133,926\n",
      "Non-trainable params: 0\n",
      "_________________________________________________________________\n"
     ]
    }
   ],
   "source": [
    "if(train == True):\n",
    "    rows = X_train.shape[0]\n",
    "    dims = X_train.shape[1]\n",
    "    classes = np.unique(y_test).shape[0]\n",
    "    print(rows, dims, classes)\n",
    "\n",
    "    model = tf.keras.models.Sequential([\n",
    "        keras.layers.Dense(800, activation=tf.keras.activations.relu, input_shape=(dims,)),\n",
    "        keras.layers.Dense(500, activation=tf.keras.activations.relu),\n",
    "        keras.layers.Dense(200, activation=tf.keras.activations.relu),\n",
    "        keras.layers.Dense(classes, activation=tf.keras.activations.softmax)\n",
    "    ])\n",
    "\n",
    "    model.compile(optimizer=tf.keras.optimizers.Adam(),\n",
    "                     loss=tf.keras.losses.sparse_categorical_crossentropy ,\n",
    "                     metrics=['accuracy'])\n",
    "\n",
    "    model.summary()"
   ]
  },
  {
   "cell_type": "markdown",
   "metadata": {
    "heading_collapsed": true
   },
   "source": [
    "##### 2.2 Train Model"
   ]
  },
  {
   "cell_type": "code",
   "execution_count": 5,
   "metadata": {
    "hidden": true
   },
   "outputs": [
    {
     "name": "stdout",
     "output_type": "stream",
     "text": [
      "Epoch 1/10\n",
      "124800/124800 [==============================] - 62s 496us/sample - loss: 0.5190 - acc: 0.8365\n",
      "Epoch 2/10\n",
      "124800/124800 [==============================] - 60s 478us/sample - loss: 0.3006 - acc: 0.9005\n",
      "Epoch 3/10\n",
      "124800/124800 [==============================] - 60s 479us/sample - loss: 0.2467 - acc: 0.9173\n",
      "Epoch 4/10\n",
      "124800/124800 [==============================] - 59s 476us/sample - loss: 0.2150 - acc: 0.9255\n",
      "Epoch 5/10\n",
      "124800/124800 [==============================] - 60s 478us/sample - loss: 0.1941 - acc: 0.9311\n",
      "Epoch 6/10\n",
      "124800/124800 [==============================] - 60s 479us/sample - loss: 0.1761 - acc: 0.9369\n",
      "Epoch 7/10\n",
      "124800/124800 [==============================] - 60s 482us/sample - loss: 0.1661 - acc: 0.9414\n",
      "Epoch 8/10\n",
      "124800/124800 [==============================] - 60s 483us/sample - loss: 0.1556 - acc: 0.9441\n",
      "Epoch 9/10\n",
      "124800/124800 [==============================] - 60s 482us/sample - loss: 0.1488 - acc: 0.9462\n",
      "Epoch 10/10\n",
      "124800/124800 [==============================] - 60s 482us/sample - loss: 0.1430 - acc: 0.9483\n"
     ]
    }
   ],
   "source": [
    "if(train == True):\n",
    "    model.fit(X_train, y_train, epochs = n_epochs)"
   ]
  },
  {
   "cell_type": "markdown",
   "metadata": {
    "heading_collapsed": true
   },
   "source": [
    "##### 2.3 Evaluate Trained Model"
   ]
  },
  {
   "cell_type": "code",
   "execution_count": 6,
   "metadata": {
    "hidden": true,
    "scrolled": false
   },
   "outputs": [
    {
     "name": "stdout",
     "output_type": "stream",
     "text": [
      "X_train:  (124800, 784)\n",
      "y_train:  (124800,)\n",
      "X_test:  (20800, 784)\n",
      "y_test:  (20800,)\n",
      "20800/20800 [==============================] - 2s 107us/sample - loss: 0.3505 - acc: 0.9125\n",
      "Evaluation: [loss: 0.3505441649990063, acc: 0.9124519228935242]\n"
     ]
    }
   ],
   "source": [
    "print('X_train: ', X_train.shape)\n",
    "print('y_train: ', y_train.shape)\n",
    "print('X_test: ', X_test.shape)\n",
    "print('y_test: ', y_test.shape)\n",
    "loss, acc = 0, 0\n",
    "if(train == True):\n",
    "    loss, acc = model.evaluate(X_test, y_test)\n",
    "    print(\"Evaluation: [loss: {}, acc: {}]\".format(loss, acc))"
   ]
  },
  {
   "cell_type": "markdown",
   "metadata": {
    "heading_collapsed": true
   },
   "source": [
    "#### 3. Save Trained Model (as .h5 file)  & Optionally covert to .tflite for deployment"
   ]
  },
  {
   "cell_type": "code",
   "execution_count": 7,
   "metadata": {
    "hidden": true
   },
   "outputs": [
    {
     "name": "stdout",
     "output_type": "stream",
     "text": [
      "WARNING:tensorflow:From E:\\Anaconda3\\envs\\tf_cpu_env\\lib\\site-packages\\tensorflow\\lite\\python\\lite.py:591: convert_variables_to_constants (from tensorflow.python.framework.graph_util_impl) is deprecated and will be removed in a future version.\n",
      "Instructions for updating:\n",
      "Use tf.compat.v1.graph_util.convert_variables_to_constants\n",
      "WARNING:tensorflow:From E:\\Anaconda3\\envs\\tf_cpu_env\\lib\\site-packages\\tensorflow\\python\\framework\\graph_util_impl.py:245: extract_sub_graph (from tensorflow.python.framework.graph_util_impl) is deprecated and will be removed in a future version.\n",
      "Instructions for updating:\n",
      "Use tf.compat.v1.graph_util.extract_sub_graph\n",
      "INFO:tensorflow:Froze 8 variables.\n",
      "INFO:tensorflow:Converted 8 variables to const ops.\n"
     ]
    }
   ],
   "source": [
    "if(train == True):\n",
    "    #Save trained model\n",
    "    model.save(fn_h5)\n",
    "\n",
    "#Convert model to tflite format\n",
    "if (save_as_tflite == True):\n",
    "    converter = tf.lite.TFLiteConverter.from_keras_model_file(fn_h5)\n",
    "    mnist_digits_model = converter.convert()\n",
    "    open(fn_tflite, \"wb\").write(mnist_digits_model)"
   ]
  },
  {
   "cell_type": "markdown",
   "metadata": {},
   "source": [
    "#### 4. User Image Processing and Prediction"
   ]
  },
  {
   "cell_type": "markdown",
   "metadata": {
    "heading_collapsed": true
   },
   "source": [
    "###### i. Read Image"
   ]
  },
  {
   "cell_type": "code",
   "execution_count": 8,
   "metadata": {
    "hidden": true
   },
   "outputs": [
    {
     "data": {
      "image/png": "[encoded data removed]",
      "text/plain": [
       "<Figure size 432x288 with 1 Axes>"
      ]
     },
     "metadata": {
      "needs_background": "light"
     },
     "output_type": "display_data"
    },
    {
     "data": {
      "image/png": "[encoded data removed]",
      "text/plain": [
       "<Figure size 432x288 with 1 Axes>"
      ]
     },
     "metadata": {
      "needs_background": "light"
     },
     "output_type": "display_data"
    }
   ],
   "source": [
    "img = cv2.imread('../a03.png')\n",
    "img_bin = binarize_image(img)\n",
    "\n",
    "plt.title(\"Original Image\")\n",
    "plt.imshow(img_bin, cmap='gray')\n",
    "plt.show()\n",
    "\n",
    "img_roi = trim(img_bin, pixel_threshold=0)\n",
    "plt.title(\"Trimmed Image\")\n",
    "plt.imshow(img_roi, cmap='gray')\n",
    "plt.show()"
   ]
  },
  {
   "cell_type": "markdown",
   "metadata": {
    "heading_collapsed": true
   },
   "source": [
    "###### ii. Extract Characters and Preprocess Each Sub-Image"
   ]
  },
  {
   "cell_type": "code",
   "execution_count": 9,
   "metadata": {
    "code_folding": [
     0,
     8,
     17,
     26
    ],
    "hidden": true
   },
   "outputs": [],
   "source": [
    "def preprocess(img_seg, flatten=True, scale_features=True, display_steps=False):\n",
    "    rows, cols = img_seg.shape\n",
    "    \n",
    "    #(1) Fit to 20x20 box preserving aspect ratio\n",
    "    max_dim = 20\n",
    "    img_fitted = fitImage(img_seg, max_dim)\n",
    "    rows, cols = img_fitted.shape\n",
    "    \n",
    "    if(display_steps == True):\n",
    "        plt.title(\"{}, {}\".format(i, img_fitted.shape))\n",
    "        plt.imshow(img_fitted, cmap='gray')\n",
    "        plt.show()\n",
    "    \n",
    "    #(2) Pad to 28x28 image\n",
    "    reqr, reqc = 28, 28\n",
    "    img_padded = padImage(img_fitted, reqr, reqc)\n",
    "\n",
    "    if(display_steps == True):\n",
    "        plt.title(i)\n",
    "        plt.imshow(img_padded, cmap='gray')\n",
    "        plt.show()\n",
    "    \n",
    "    #(3) Transform / Center image\n",
    "    shX, shY = getTransform(img_padded)\n",
    "    img_transformed = transformImage(img_padded ,shX, shY)\n",
    "    \n",
    "    if(display_steps == True):\n",
    "        plt.title(i)\n",
    "        plt.imshow(img_transformed, cmap='gray')\n",
    "        plt.show()\n",
    "        \n",
    "    #(4) Flatten image\n",
    "    if(flatten == True):\n",
    "        img_transformed = np.reshape(img_transformed, (1, -1))\n",
    "        \n",
    "    #(5) Scale features\n",
    "    if(scale_features == True):\n",
    "        img_transformed = img_transformed / 255.0\n",
    "       \n",
    "    return img_transformed"
   ]
  },
  {
   "cell_type": "code",
   "execution_count": 10,
   "metadata": {
    "code_folding": [],
    "hidden": true,
    "scrolled": false
   },
   "outputs": [
    {
     "name": "stdout",
     "output_type": "stream",
     "text": [
      "174 863\n",
      "174 863\n",
      "9\n"
     ]
    },
    {
     "data": {
      "image/png": "[encoded data removed]",
      "text/plain": [
       "<Figure size 432x288 with 1 Axes>"
      ]
     },
     "metadata": {
      "needs_background": "light"
     },
     "output_type": "display_data"
    },
    {
     "data": {
      "image/png": "[encoded data removed]",
      "text/plain": [
       "<Figure size 432x288 with 1 Axes>"
      ]
     },
     "metadata": {
      "needs_background": "light"
     },
     "output_type": "display_data"
    },
    {
     "data": {
      "image/png": "[encoded data removed]",
      "text/plain": [
       "<Figure size 432x288 with 1 Axes>"
      ]
     },
     "metadata": {
      "needs_background": "light"
     },
     "output_type": "display_data"
    },
    {
     "data": {
      "image/png": "[encoded data removed]",
      "text/plain": [
       "<Figure size 432x288 with 1 Axes>"
      ]
     },
     "metadata": {
      "needs_background": "light"
     },
     "output_type": "display_data"
    },
    {
     "data": {
      "image/png": "[encoded data removed]",
      "text/plain": [
       "<Figure size 432x288 with 1 Axes>"
      ]
     },
     "metadata": {
      "needs_background": "light"
     },
     "output_type": "display_data"
    },
    {
     "data": {
      "image/png": "[encoded data removed]",
      "text/plain": [
       "<Figure size 432x288 with 1 Axes>"
      ]
     },
     "metadata": {
      "needs_background": "light"
     },
     "output_type": "display_data"
    },
    {
     "data": {
      "image/png": "[encoded data removed]",
      "text/plain": [
       "<Figure size 432x288 with 1 Axes>"
      ]
     },
     "metadata": {
      "needs_background": "light"
     },
     "output_type": "display_data"
    },
    {
     "data": {
      "image/png": "[encoded data removed]",
      "text/plain": [
       "<Figure size 432x288 with 1 Axes>"
      ]
     },
     "metadata": {
      "needs_background": "light"
     },
     "output_type": "display_data"
    },
    {
     "data": {
      "image/png": "[encoded data removed]",
      "text/plain": [
       "<Figure size 432x288 with 1 Axes>"
      ]
     },
     "metadata": {
      "needs_background": "light"
     },
     "output_type": "display_data"
    }
   ],
   "source": [
    "seg_list = segment_image(img_bin)\n",
    "print(len(seg_list))\n",
    "\n",
    "for i in range(len(seg_list)):\n",
    "    seg_list[i] = preprocess(seg_list[i])\n",
    "    \n",
    "    plt.title(str(i) + str(seg_list[i].shape ))\n",
    "    plt.imshow(seg_list[i].reshape((28, 28)), cmap='gray')\n",
    "    plt.show() "
   ]
  },
  {
   "cell_type": "markdown",
   "metadata": {},
   "source": [
    "###### iii. Load Pre-trained Model and Make Predictions"
   ]
  },
  {
   "cell_type": "code",
   "execution_count": 11,
   "metadata": {
    "code_folding": []
   },
   "outputs": [
    {
     "name": "stdout",
     "output_type": "stream",
     "text": [
      "Tensorflow Model Expects:\n",
      "Input:\n",
      "\tIndex: 13\n",
      "\tShape: [  1 784]\n",
      "Output:\n",
      "\tIndex: 11\n",
      "\tShape: [ 1 26]\n",
      "Provided Input Shape:  (1, 784)\n"
     ]
    }
   ],
   "source": [
    "#(1) Load Pretrained Model\n",
    "interpreter = tf.lite.Interpreter(model_path=fn_tflite)\n",
    "interpreter.allocate_tensors()\n",
    "\n",
    "#(2) Get input and output tensors.\n",
    "input_details = interpreter.get_input_details()\n",
    "output_details = interpreter.get_output_details()\n",
    "\n",
    "ip_idx, ip_shape = input_details[0]['index'], input_details[0]['shape']\n",
    "op_idx, op_shape = output_details[0]['index'], output_details[0]['shape']\n",
    "print(\"Tensorflow Model Expects:\")\n",
    "print(\"Input:\\n\\tIndex: {}\\n\\tShape: {}\".format(ip_idx, ip_shape))\n",
    "print(\"Output:\\n\\tIndex: {}\\n\\tShape: {}\".format(op_idx, op_shape))\n",
    "\n",
    "input_data = seg_list[0].astype(np.float32)\n",
    "print(\"Provided Input Shape: \", input_data.shape)\n",
    "\n",
    "#(3) Test model on user input data.\n",
    "predictions = [\"\" for i in range(len(seg_list))]\n",
    "for i in range(len(seg_list)):\n",
    "    input_data = seg_list[i].astype(np.float32)\n",
    "    interpreter.set_tensor(ip_idx, input_data)\n",
    "    interpreter.invoke()\n",
    "    output_data = interpreter.get_tensor(op_idx)\n",
    "    \n",
    "    predictions[i] = class_labels[np.argmax(output_data)]"
   ]
  },
  {
   "cell_type": "markdown",
   "metadata": {
    "heading_collapsed": true
   },
   "source": [
    "###### iv. Display Predictions "
   ]
  },
  {
   "cell_type": "code",
   "execution_count": 12,
   "metadata": {
    "code_folding": [],
    "hidden": true,
    "scrolled": true
   },
   "outputs": [
    {
     "data": {
      "image/png": "[encoded data removed]",
      "text/plain": [
       "<Figure size 432x288 with 1 Axes>"
      ]
     },
     "metadata": {
      "needs_background": "light"
     },
     "output_type": "display_data"
    },
    {
     "data": {
      "image/png": "[encoded data removed]",
      "text/plain": [
       "<Figure size 432x288 with 1 Axes>"
      ]
     },
     "metadata": {
      "needs_background": "light"
     },
     "output_type": "display_data"
    },
    {
     "data": {
      "image/png": "[encoded data removed]",
      "text/plain": [
       "<Figure size 432x288 with 1 Axes>"
      ]
     },
     "metadata": {
      "needs_background": "light"
     },
     "output_type": "display_data"
    },
    {
     "data": {
      "image/png": "[encoded data removed]",
      "text/plain": [
       "<Figure size 432x288 with 1 Axes>"
      ]
     },
     "metadata": {
      "needs_background": "light"
     },
     "output_type": "display_data"
    },
    {
     "data": {
      "image/png": "[encoded data removed]",
      "text/plain": [
       "<Figure size 432x288 with 1 Axes>"
      ]
     },
     "metadata": {
      "needs_background": "light"
     },
     "output_type": "display_data"
    },
    {
     "data": {
      "image/png": "[encoded data removed]",
      "text/plain": [
       "<Figure size 432x288 with 1 Axes>"
      ]
     },
     "metadata": {
      "needs_background": "light"
     },
     "output_type": "display_data"
    },
    {
     "data": {
      "image/png": "[encoded data removed]",
      "text/plain": [
       "<Figure size 432x288 with 1 Axes>"
      ]
     },
     "metadata": {
      "needs_background": "light"
     },
     "output_type": "display_data"
    },
    {
     "data": {
      "image/png": "[encoded data removed]",
      "text/plain": [
       "<Figure size 432x288 with 1 Axes>"
      ]
     },
     "metadata": {
      "needs_background": "light"
     },
     "output_type": "display_data"
    },
    {
     "data": {
      "image/png": "[encoded data removed]",
      "text/plain": [
       "<Figure size 432x288 with 1 Axes>"
      ]
     },
     "metadata": {
      "needs_background": "light"
     },
     "output_type": "display_data"
    },
    {
     "data": {
      "image/png": "[encoded data removed]",
      "text/plain": [
       "<Figure size 432x288 with 1 Axes>"
      ]
     },
     "metadata": {
      "needs_background": "light"
     },
     "output_type": "display_data"
    }
   ],
   "source": [
    "plt.title(predictions, fontsize=18)\n",
    "plt.imshow(img, cmap='gray')\n",
    "plt.show()\n",
    "\n",
    "for i in range(len(seg_list)):\n",
    "    plt.title(predictions[i])\n",
    "    plt.imshow(seg_list[i].reshape((28, 28)), cmap='gray')\n",
    "    plt.show() \n",
    "    "
   ]
  },
  {
   "cell_type": "markdown",
   "metadata": {},
   "source": [
    "#### 5. Summary"
   ]
  },
  {
   "cell_type": "code",
   "execution_count": 13,
   "metadata": {},
   "outputs": [
    {
     "data": {
      "image/png": "[encoded data removed]",
      "text/plain": [
       "<Figure size 432x288 with 1 Axes>"
      ]
     },
     "metadata": {
      "needs_background": "light"
     },
     "output_type": "display_data"
    },
    {
     "name": "stdout",
     "output_type": "stream",
     "text": [
      "Test Set:\n",
      "\tAccuracy: 0.9124519228935242%\n",
      "\tLoss: 0.3505441649990063\n",
      "\n",
      "\n",
      "Model Configuration:\n",
      "_________________________________________________________________\n",
      "Layer (type)                 Output Shape              Param #   \n",
      "=================================================================\n",
      "dense (Dense)                (None, 800)               628000    \n",
      "_________________________________________________________________\n",
      "dense_1 (Dense)              (None, 500)               400500    \n",
      "_________________________________________________________________\n",
      "dense_2 (Dense)              (None, 200)               100200    \n",
      "_________________________________________________________________\n",
      "dense_3 (Dense)              (None, 26)                5226      \n",
      "=================================================================\n",
      "Total params: 1,133,926\n",
      "Trainable params: 1,133,926\n",
      "Non-trainable params: 0\n",
      "_________________________________________________________________\n"
     ]
    }
   ],
   "source": [
    "plt.title(predictions, fontsize=18)\n",
    "plt.imshow(img, cmap='gray')\n",
    "plt.show()\n",
    "\n",
    "print(\"Test Set:\\n\\tAccuracy: {}%\\n\\tLoss: {}\\n\\n\".format(acc, loss))\n",
    "print('Model Configuration:')\n",
    "model.summary()"
   ]
  }
 ],
 "metadata": {
  "kernelspec": {
   "display_name": "Python 3",
   "language": "python",
   "name": "python3"
  },
  "language_info": {
   "codemirror_mode": {
    "name": "ipython",
    "version": 3
   },
   "file_extension": ".py",
   "mimetype": "text/x-python",
   "name": "python",
   "nbconvert_exporter": "python",
   "pygments_lexer": "ipython3",
   "version": "3.7.4"
  },
  "varInspector": {
   "cols": {
    "lenName": 16,
    "lenType": 16,
    "lenVar": 40
   },
   "kernels_config": {
    "python": {
     "delete_cmd_postfix": "",
     "delete_cmd_prefix": "del ",
     "library": "var_list.py",
     "varRefreshCmd": "print(var_dic_list())"
    },
    "r": {
     "delete_cmd_postfix": ") ",
     "delete_cmd_prefix": "rm(",
     "library": "var_list.r",
     "varRefreshCmd": "cat(var_dic_list()) "
    }
   },
   "types_to_exclude": [
    "module",
    "function",
    "builtin_function_or_method",
    "instance",
    "_Feature"
   ],
   "window_display": false
  }
 },
 "nbformat": 4,
 "nbformat_minor": 2
}
