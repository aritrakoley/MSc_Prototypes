{
 "cells": [
  {
   "cell_type": "markdown",
   "metadata": {},
   "source": [
    "#### Run Options: Set these options before running"
   ]
  },
  {
   "cell_type": "code",
   "execution_count": 1,
   "metadata": {},
   "outputs": [],
   "source": [
    "fn_h5 = 'tf_mnist_model_az_09.h5'\n",
    "fn_tflite = 'tf_mnist_model_az_09.tflite'\n",
    "class_labels = \"0123456789ABCDEFGHIJKLMNOPQRSTUVWXYZabcdefghijklmnopqrstuvwxyz\"\n",
    "\n",
    "save_as_tflite = True\n",
    "train = True\n",
    "n_epochs = 10"
   ]
  },
  {
   "cell_type": "markdown",
   "metadata": {
    "heading_collapsed": true
   },
   "source": [
    "#### 0. Import Modules"
   ]
  },
  {
   "cell_type": "code",
   "execution_count": 2,
   "metadata": {
    "hidden": true
   },
   "outputs": [],
   "source": [
    "from ImageUtilities import *\n",
    "from MNISTUtilities import *\n",
    "import numpy as np\n",
    "import cv2\n",
    "import matplotlib.pyplot as plt\n",
    "\n",
    "import tensorflow as tf\n",
    "from tensorflow import keras"
   ]
  },
  {
   "cell_type": "markdown",
   "metadata": {
    "heading_collapsed": true
   },
   "source": [
    "#### 1. Read MNIST"
   ]
  },
  {
   "cell_type": "code",
   "execution_count": 3,
   "metadata": {
    "hidden": true,
    "scrolled": true
   },
   "outputs": [
    {
     "name": "stdout",
     "output_type": "stream",
     "text": [
      "Reading: emnist-byclass-mapping.txt  ...\n",
      "Reading: emnist-byclass-test-images-idx3-ubyte.gz  ...\n",
      "2051 116323 28 28\n",
      "(116323, 28, 28)\n",
      "Reading: emnist-byclass-test-labels-idx1-ubyte.gz  ...\n",
      "2049 116323 0 0\n",
      "(116323,)\n",
      "Reading: emnist-byclass-train-images-idx3-ubyte.gz  ...\n",
      "2051 697932 28 28\n",
      "(697932, 28, 28)\n",
      "Reading: emnist-byclass-train-labels-idx1-ubyte.gz  ...\n",
      "2049 697932 0 0\n",
      "(697932,)\n",
      "(697932, 784)\n",
      "[ 0  1  2  3  4  5  6  7  8  9 10 11 12 13 14 15 16 17 18 19 20 21 22 23\n",
      " 24 25 26 27 28 29 30 31 32 33 34 35 36 37 38 39 40 41 42 43 44 45 46 47\n",
      " 48 49 50 51 52 53 54 55 56 57 58 59 60 61]\n",
      "62\n",
      "Train Set:\n"
     ]
    },
    {
     "data": {
      "image/png": "[encoded data removed]",
      "text/plain": [
       "<Figure size 648x216 with 3 Axes>"
      ]
     },
     "metadata": {
      "needs_background": "light"
     },
     "output_type": "display_data"
    },
    {
     "name": "stdout",
     "output_type": "stream",
     "text": [
      "Test Set:\n"
     ]
    },
    {
     "data": {
      "image/png": "[encoded data removed]",
      "text/plain": [
       "<Figure size 648x216 with 3 Axes>"
      ]
     },
     "metadata": {
      "needs_background": "light"
     },
     "output_type": "display_data"
    }
   ],
   "source": [
    "X_train, X_test, y_train, y_test = read_and_transform_MNIST_data(dir_path='../../../data/mnist_az/gzip/', category='by-class')\n",
    "\n",
    "print(np.unique(y_train))\n",
    "print(len(class_labels))\n",
    "#Sanity Check\n",
    "sanity_check(X_train, X_test, y_train, y_test, class_labels)"
   ]
  },
  {
   "cell_type": "markdown",
   "metadata": {},
   "source": [
    "#### 2. Model Training"
   ]
  },
  {
   "cell_type": "markdown",
   "metadata": {
    "heading_collapsed": true
   },
   "source": [
    "##### 2.1 Build and Compile Model"
   ]
  },
  {
   "cell_type": "code",
   "execution_count": 4,
   "metadata": {
    "hidden": true
   },
   "outputs": [
    {
     "name": "stdout",
     "output_type": "stream",
     "text": [
      "697932 784 62\n",
      "WARNING:tensorflow:From E:\\Anaconda3\\envs\\tf_cpu_env\\lib\\site-packages\\tensorflow\\python\\ops\\resource_variable_ops.py:435: colocate_with (from tensorflow.python.framework.ops) is deprecated and will be removed in a future version.\n",
      "Instructions for updating:\n",
      "Colocations handled automatically by placer.\n",
      "_________________________________________________________________\n",
      "Layer (type)                 Output Shape              Param #   \n",
      "=================================================================\n",
      "dense (Dense)                (None, 200)               157000    \n",
      "_________________________________________________________________\n",
      "dense_1 (Dense)              (None, 100)               20100     \n",
      "_________________________________________________________________\n",
      "dense_2 (Dense)              (None, 50)                5050      \n",
      "_________________________________________________________________\n",
      "dense_3 (Dense)              (None, 62)                3162      \n",
      "=================================================================\n",
      "Total params: 185,312\n",
      "Trainable params: 185,312\n",
      "Non-trainable params: 0\n",
      "_________________________________________________________________\n"
     ]
    }
   ],
   "source": [
    "if(train == True):\n",
    "    rows = X_train.shape[0]\n",
    "    dims = X_train.shape[1]\n",
    "    classes = np.unique(y_test).shape[0]\n",
    "    print(rows, dims, classes)\n",
    "\n",
    "    model = tf.keras.models.Sequential([\n",
    "        keras.layers.Dense(200, activation=tf.keras.activations.relu, input_shape=(dims,)),\n",
    "        keras.layers.Dense(100, activation=tf.keras.activations.relu),\n",
    "        keras.layers.Dense(50, activation=tf.keras.activations.relu),\n",
    "        keras.layers.Dense(classes, activation=tf.keras.activations.softmax)\n",
    "    ])\n",
    "\n",
    "    model.compile(optimizer=tf.keras.optimizers.Adam(),\n",
    "                     loss=tf.keras.losses.sparse_categorical_crossentropy ,\n",
    "                     metrics=['accuracy'])\n",
    "\n",
    "    model.summary()"
   ]
  },
  {
   "cell_type": "markdown",
   "metadata": {
    "heading_collapsed": true
   },
   "source": [
    "##### 2.2 Train Model"
   ]
  },
  {
   "cell_type": "code",
   "execution_count": 5,
   "metadata": {
    "hidden": true
   },
   "outputs": [
    {
     "name": "stdout",
     "output_type": "stream",
     "text": [
      "Epoch 1/10\n",
      "697932/697932 [==============================] - 93s 134us/sample - loss: 0.6401 - acc: 0.7923\n",
      "Epoch 2/10\n",
      "697932/697932 [==============================] - 90s 130us/sample - loss: 0.4999 - acc: 0.8273\n",
      "Epoch 3/10\n",
      "697932/697932 [==============================] - 90s 130us/sample - loss: 0.4738 - acc: 0.8349\n",
      "Epoch 4/10\n",
      "697932/697932 [==============================] - 91s 130us/sample - loss: 0.4591 - acc: 0.8389\n",
      "Epoch 5/10\n",
      "697932/697932 [==============================] - 90s 129us/sample - loss: 0.4499 - acc: 0.8415\n",
      "Epoch 6/10\n",
      "697932/697932 [==============================] - 91s 130us/sample - loss: 0.4438 - acc: 0.8437\n",
      "Epoch 7/10\n",
      "697932/697932 [==============================] - 91s 130us/sample - loss: 0.4398 - acc: 0.8452\n",
      "Epoch 8/10\n",
      "697932/697932 [==============================] - 91s 130us/sample - loss: 0.4357 - acc: 0.8461\n",
      "Epoch 9/10\n",
      "697932/697932 [==============================] - 91s 130us/sample - loss: 0.4331 - acc: 0.8470\n",
      "Epoch 10/10\n",
      "697932/697932 [==============================] - 91s 131us/sample - loss: 0.4306 - acc: 0.8480\n"
     ]
    }
   ],
   "source": [
    "if(train == True):\n",
    "    model.fit(X_train, y_train, epochs = 10)"
   ]
  },
  {
   "cell_type": "markdown",
   "metadata": {
    "heading_collapsed": true
   },
   "source": [
    "##### 2.3 Evaluate Trained Model"
   ]
  },
  {
   "cell_type": "code",
   "execution_count": 6,
   "metadata": {
    "hidden": true,
    "scrolled": false
   },
   "outputs": [
    {
     "name": "stdout",
     "output_type": "stream",
     "text": [
      "116323/116323 [==============================] - 6s 50us/sample - loss: 0.4744 - acc: 0.8401\n",
      "Evaluation: [loss: 0.47436042503960407, acc: 0.8400574326515198]\n"
     ]
    }
   ],
   "source": [
    "if(train == True):\n",
    "    loss, acc = model.evaluate(X_test, y_test)\n",
    "    print(\"Evaluation: [loss: {}, acc: {}]\".format(loss, acc))"
   ]
  },
  {
   "cell_type": "markdown",
   "metadata": {
    "heading_collapsed": true
   },
   "source": [
    "#### 3. Save Trained Model (as .h5 file)  & Optionally covert to .tflite for deployment"
   ]
  },
  {
   "cell_type": "code",
   "execution_count": 7,
   "metadata": {
    "hidden": true
   },
   "outputs": [
    {
     "name": "stdout",
     "output_type": "stream",
     "text": [
      "WARNING:tensorflow:From E:\\Anaconda3\\envs\\tf_cpu_env\\lib\\site-packages\\tensorflow\\lite\\python\\lite.py:591: convert_variables_to_constants (from tensorflow.python.framework.graph_util_impl) is deprecated and will be removed in a future version.\n",
      "Instructions for updating:\n",
      "Use tf.compat.v1.graph_util.convert_variables_to_constants\n",
      "WARNING:tensorflow:From E:\\Anaconda3\\envs\\tf_cpu_env\\lib\\site-packages\\tensorflow\\python\\framework\\graph_util_impl.py:245: extract_sub_graph (from tensorflow.python.framework.graph_util_impl) is deprecated and will be removed in a future version.\n",
      "Instructions for updating:\n",
      "Use tf.compat.v1.graph_util.extract_sub_graph\n",
      "INFO:tensorflow:Froze 8 variables.\n",
      "INFO:tensorflow:Converted 8 variables to const ops.\n"
     ]
    }
   ],
   "source": [
    "if(train == True):\n",
    "    #Save trained model\n",
    "    model.save(fn_h5)\n",
    "\n",
    "#Convert model to tflite format\n",
    "if (save_as_tflite == True):\n",
    "    converter = tf.lite.TFLiteConverter.from_keras_model_file(fn_h5)\n",
    "    mnist_digits_model = converter.convert()\n",
    "    open(fn_tflite, \"wb\").write(mnist_digits_model)"
   ]
  },
  {
   "cell_type": "markdown",
   "metadata": {},
   "source": [
    "#### 4. User Image Processing and Prediction"
   ]
  },
  {
   "cell_type": "markdown",
   "metadata": {},
   "source": [
    "###### i. Read Image"
   ]
  },
  {
   "cell_type": "code",
   "execution_count": 14,
   "metadata": {},
   "outputs": [
    {
     "data": {
      "image/png": "[encoded data removed]",
      "text/plain": [
       "<Figure size 432x288 with 1 Axes>"
      ]
     },
     "metadata": {
      "needs_background": "light"
     },
     "output_type": "display_data"
    }
   ],
   "source": [
    "img = cv2.imread('../a03.png')\n",
    "img_bin = binary_image(img)\n",
    "\n",
    "plt.imshow(img_bin, cmap='gray')\n",
    "plt.show()"
   ]
  },
  {
   "cell_type": "markdown",
   "metadata": {
    "heading_collapsed": true
   },
   "source": [
    "###### ii. Extract Characters and Preprocess Each Sub-Image"
   ]
  },
  {
   "cell_type": "code",
   "execution_count": 15,
   "metadata": {
    "code_folding": [
     0,
     8,
     17,
     26
    ],
    "hidden": true
   },
   "outputs": [],
   "source": [
    "def preprocess(img_seg, flatten=True, scale_features=True, display_steps=False):\n",
    "    rows, cols = img_seg.shape\n",
    "    \n",
    "    #(1) Fit to 20x20 box preserving aspect ratio\n",
    "    max_dim = 20\n",
    "    img_fitted = fitImage(img_seg, max_dim)\n",
    "    rows, cols = img_fitted.shape\n",
    "    \n",
    "    if(display_steps == True):\n",
    "        plt.title(\"{}, {}\".format(i, img_fitted.shape))\n",
    "        plt.imshow(img_fitted, cmap='gray')\n",
    "        plt.show()\n",
    "    \n",
    "    #(2) Pad to 28x28 image\n",
    "    reqr, reqc = 28, 28\n",
    "    img_padded = padImage(img_fitted, reqr, reqc)\n",
    "\n",
    "    if(display_steps == True):\n",
    "        plt.title(i)\n",
    "        plt.imshow(img_padded, cmap='gray')\n",
    "        plt.show()\n",
    "    \n",
    "    #(3) Transform / Center image\n",
    "    shX, shY = getTransform(img_padded)\n",
    "    img_transformed = transformImage(img_padded ,shX, shY)\n",
    "    \n",
    "    if(display_steps == True):\n",
    "        plt.title(i)\n",
    "        plt.imshow(img_transformed, cmap='gray')\n",
    "        plt.show()\n",
    "        \n",
    "    #(4) Flatten image\n",
    "    if(flatten == True):\n",
    "        img_transformed = np.reshape(img_transformed, (1, -1))\n",
    "        \n",
    "    #(5) Scale features\n",
    "    if(scale_features == True):\n",
    "        img_transformed = img_transformed / 255.0\n",
    "       \n",
    "    return img_transformed"
   ]
  },
  {
   "cell_type": "code",
   "execution_count": 16,
   "metadata": {
    "code_folding": [],
    "hidden": true,
    "scrolled": true
   },
   "outputs": [
    {
     "name": "stdout",
     "output_type": "stream",
     "text": [
      "174 863\n",
      "174 863\n",
      "9\n"
     ]
    },
    {
     "data": {
      "image/png": "[encoded data removed]",
      "text/plain": [
       "<Figure size 432x288 with 1 Axes>"
      ]
     },
     "metadata": {
      "needs_background": "light"
     },
     "output_type": "display_data"
    },
    {
     "data": {
      "image/png": "[encoded data removed]",
      "text/plain": [
       "<Figure size 432x288 with 1 Axes>"
      ]
     },
     "metadata": {
      "needs_background": "light"
     },
     "output_type": "display_data"
    },
    {
     "data": {
      "image/png": "[encoded data removed]",
      "text/plain": [
       "<Figure size 432x288 with 1 Axes>"
      ]
     },
     "metadata": {
      "needs_background": "light"
     },
     "output_type": "display_data"
    },
    {
     "data": {
      "image/png": "[encoded data removed]",
      "text/plain": [
       "<Figure size 432x288 with 1 Axes>"
      ]
     },
     "metadata": {
      "needs_background": "light"
     },
     "output_type": "display_data"
    },
    {
     "data": {
      "image/png": "[encoded data removed]",
      "text/plain": [
       "<Figure size 432x288 with 1 Axes>"
      ]
     },
     "metadata": {
      "needs_background": "light"
     },
     "output_type": "display_data"
    },
    {
     "data": {
      "image/png": "[encoded data removed]",
      "text/plain": [
       "<Figure size 432x288 with 1 Axes>"
      ]
     },
     "metadata": {
      "needs_background": "light"
     },
     "output_type": "display_data"
    },
    {
     "data": {
      "image/png": "[encoded data removed]",
      "text/plain": [
       "<Figure size 432x288 with 1 Axes>"
      ]
     },
     "metadata": {
      "needs_background": "light"
     },
     "output_type": "display_data"
    },
    {
     "data": {
      "image/png": "[encoded data removed]",
      "text/plain": [
       "<Figure size 432x288 with 1 Axes>"
      ]
     },
     "metadata": {
      "needs_background": "light"
     },
     "output_type": "display_data"
    },
    {
     "data": {
      "image/png": "[encoded data removed]",
      "text/plain": [
       "<Figure size 432x288 with 1 Axes>"
      ]
     },
     "metadata": {
      "needs_background": "light"
     },
     "output_type": "display_data"
    }
   ],
   "source": [
    "seg_list = segment_image(img_bin)\n",
    "print(len(seg_list))\n",
    "\n",
    "for i in range(len(seg_list)):\n",
    "    seg_list[i] = preprocess(seg_list[i])\n",
    "    \n",
    "    plt.title(str(i) + str(seg_list[i].shape ))\n",
    "    plt.imshow(seg_list[i].reshape((28, 28)), cmap='gray')\n",
    "    plt.show() "
   ]
  },
  {
   "cell_type": "markdown",
   "metadata": {
    "heading_collapsed": true
   },
   "source": [
    "###### iii. Load Pre-trained Model and Make Predictions"
   ]
  },
  {
   "cell_type": "code",
   "execution_count": 17,
   "metadata": {
    "code_folding": [],
    "hidden": true
   },
   "outputs": [
    {
     "name": "stdout",
     "output_type": "stream",
     "text": [
      "Tensorflow Model Expects:\n",
      "Input:\n",
      "\tIndex: 13\n",
      "\tShape: [  1 784]\n",
      "Output:\n",
      "\tIndex: 11\n",
      "\tShape: [ 1 26]\n",
      "Provided Input Shape:  (1, 784)\n"
     ]
    }
   ],
   "source": [
    "#(1) Load Pretrained Model\n",
    "interpreter = tf.contrib.lite.Interpreter(model_path=\"tf_mnist_model_az.tflite\")\n",
    "interpreter.allocate_tensors()\n",
    "\n",
    "#(2) Get input and output tensors.\n",
    "input_details = interpreter.get_input_details()\n",
    "output_details = interpreter.get_output_details()\n",
    "\n",
    "ip_idx, ip_shape = input_details[0]['index'], input_details[0]['shape']\n",
    "op_idx, op_shape = output_details[0]['index'], output_details[0]['shape']\n",
    "print(\"Tensorflow Model Expects:\")\n",
    "print(\"Input:\\n\\tIndex: {}\\n\\tShape: {}\".format(ip_idx, ip_shape))\n",
    "print(\"Output:\\n\\tIndex: {}\\n\\tShape: {}\".format(op_idx, op_shape))\n",
    "\n",
    "input_data = seg_list[0].astype(np.float32)\n",
    "print(\"Provided Input Shape: \", input_data.shape)\n",
    "\n",
    "#(3) Test model on user input data.\n",
    "predictions = [\"\" for i in range(len(seg_list))]\n",
    "for i in range(len(seg_list)):\n",
    "    input_data = seg_list[i].astype(np.float32)\n",
    "    interpreter.set_tensor(ip_idx, input_data)\n",
    "    interpreter.invoke()\n",
    "    output_data = interpreter.get_tensor(op_idx)\n",
    "    \n",
    "    predictions[i] = class_labels[np.argmax(output_data)]"
   ]
  },
  {
   "cell_type": "markdown",
   "metadata": {
    "heading_collapsed": true
   },
   "source": [
    "###### iv. Display Predictions "
   ]
  },
  {
   "cell_type": "code",
   "execution_count": 18,
   "metadata": {
    "code_folding": [],
    "hidden": true,
    "scrolled": true
   },
   "outputs": [
    {
     "data": {
      "image/png": "[encoded data removed]",
      "text/plain": [
       "<Figure size 432x288 with 1 Axes>"
      ]
     },
     "metadata": {
      "needs_background": "light"
     },
     "output_type": "display_data"
    },
    {
     "data": {
      "image/png": "[encoded data removed]",
      "text/plain": [
       "<Figure size 432x288 with 1 Axes>"
      ]
     },
     "metadata": {
      "needs_background": "light"
     },
     "output_type": "display_data"
    },
    {
     "data": {
      "image/png": "[encoded data removed]",
      "text/plain": [
       "<Figure size 432x288 with 1 Axes>"
      ]
     },
     "metadata": {
      "needs_background": "light"
     },
     "output_type": "display_data"
    },
    {
     "data": {
      "image/png": "[encoded data removed]",
      "text/plain": [
       "<Figure size 432x288 with 1 Axes>"
      ]
     },
     "metadata": {
      "needs_background": "light"
     },
     "output_type": "display_data"
    },
    {
     "data": {
      "image/png": "[encoded data removed]",
      "text/plain": [
       "<Figure size 432x288 with 1 Axes>"
      ]
     },
     "metadata": {
      "needs_background": "light"
     },
     "output_type": "display_data"
    },
    {
     "data": {
      "image/png": "[encoded data removed]",
      "text/plain": [
       "<Figure size 432x288 with 1 Axes>"
      ]
     },
     "metadata": {
      "needs_background": "light"
     },
     "output_type": "display_data"
    },
    {
     "data": {
      "image/png": "[encoded data removed]",
      "text/plain": [
       "<Figure size 432x288 with 1 Axes>"
      ]
     },
     "metadata": {
      "needs_background": "light"
     },
     "output_type": "display_data"
    },
    {
     "data": {
      "image/png": "[encoded data removed]",
      "text/plain": [
       "<Figure size 432x288 with 1 Axes>"
      ]
     },
     "metadata": {
      "needs_background": "light"
     },
     "output_type": "display_data"
    },
    {
     "data": {
      "image/png": "[encoded data removed]",
      "text/plain": [
       "<Figure size 432x288 with 1 Axes>"
      ]
     },
     "metadata": {
      "needs_background": "light"
     },
     "output_type": "display_data"
    },
    {
     "data": {
      "image/png": "[encoded data removed]",
      "text/plain": [
       "<Figure size 432x288 with 1 Axes>"
      ]
     },
     "metadata": {
      "needs_background": "light"
     },
     "output_type": "display_data"
    }
   ],
   "source": [
    "plt.title(predictions, fontsize=18)\n",
    "plt.imshow(img, cmap='gray')\n",
    "plt.show()\n",
    "\n",
    "for i in range(len(seg_list)):\n",
    "    plt.title(predictions[i])\n",
    "    plt.imshow(seg_list[i].reshape((28, 28)), cmap='gray')\n",
    "    plt.show() \n",
    "    "
   ]
  },
  {
   "cell_type": "markdown",
   "metadata": {},
   "source": [
    "#### 5. Summary"
   ]
  },
  {
   "cell_type": "code",
   "execution_count": 19,
   "metadata": {},
   "outputs": [
    {
     "data": {
      "image/png": "[encoded data removed]",
      "text/plain": [
       "<Figure size 432x288 with 1 Axes>"
      ]
     },
     "metadata": {
      "needs_background": "light"
     },
     "output_type": "display_data"
    },
    {
     "name": "stdout",
     "output_type": "stream",
     "text": [
      "Test Set:\n",
      "\tAccuracy: 0.8400574326515198%\n",
      "\tLoss: 0.47436042503960407\n",
      "\n",
      "\n",
      "Model Configuration:\n",
      "_________________________________________________________________\n",
      "Layer (type)                 Output Shape              Param #   \n",
      "=================================================================\n",
      "dense (Dense)                (None, 200)               157000    \n",
      "_________________________________________________________________\n",
      "dense_1 (Dense)              (None, 100)               20100     \n",
      "_________________________________________________________________\n",
      "dense_2 (Dense)              (None, 50)                5050      \n",
      "_________________________________________________________________\n",
      "dense_3 (Dense)              (None, 62)                3162      \n",
      "=================================================================\n",
      "Total params: 185,312\n",
      "Trainable params: 185,312\n",
      "Non-trainable params: 0\n",
      "_________________________________________________________________\n"
     ]
    }
   ],
   "source": [
    "plt.title(predictions, fontsize=18)\n",
    "plt.imshow(img, cmap='gray')\n",
    "plt.show()\n",
    "\n",
    "print(\"Test Set:\\n\\tAccuracy: {}%\\n\\tLoss: {}\\n\\n\".format(acc, loss))\n",
    "print('Model Configuration:')\n",
    "model.summary()"
   ]
  },
  {
   "cell_type": "code",
   "execution_count": null,
   "metadata": {},
   "outputs": [],
   "source": []
  }
 ],
 "metadata": {
  "kernelspec": {
   "display_name": "Python [conda env:tf_cpu_env]",
   "language": "python",
   "name": "conda-env-tf_cpu_env-py"
  },
  "language_info": {
   "codemirror_mode": {
    "name": "ipython",
    "version": 3
   },
   "file_extension": ".py",
   "mimetype": "text/x-python",
   "name": "python",
   "nbconvert_exporter": "python",
   "pygments_lexer": "ipython3",
   "version": "3.6.8"
  },
  "varInspector": {
   "cols": {
    "lenName": 16,
    "lenType": 16,
    "lenVar": 40
   },
   "kernels_config": {
    "python": {
     "delete_cmd_postfix": "",
     "delete_cmd_prefix": "del ",
     "library": "var_list.py",
     "varRefreshCmd": "print(var_dic_list())"
    },
    "r": {
     "delete_cmd_postfix": ") ",
     "delete_cmd_prefix": "rm(",
     "library": "var_list.r",
     "varRefreshCmd": "cat(var_dic_list()) "
    }
   },
   "types_to_exclude": [
    "module",
    "function",
    "builtin_function_or_method",
    "instance",
    "_Feature"
   ],
   "window_display": false
  }
 },
 "nbformat": 4,
 "nbformat_minor": 2
}
